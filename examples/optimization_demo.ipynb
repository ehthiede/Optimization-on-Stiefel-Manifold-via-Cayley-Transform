{
 "cells": [
  {
   "cell_type": "code",
   "execution_count": 1,
   "metadata": {},
   "outputs": [],
   "source": [
    "import numpy as np\n",
    "import matplotlib.pyplot as plt\n",
    "from stiefel_optimizer import AdamG, qr_retraction, SGDG\n",
    "from torch.optim import AdamW\n",
    "import torch"
   ]
  },
  {
   "cell_type": "code",
   "execution_count": 2,
   "metadata": {},
   "outputs": [],
   "source": [
    "# Simple Linear Network\n",
    "lin = torch.nn.Linear(8, 4, bias=False)"
   ]
  },
  {
   "cell_type": "code",
   "execution_count": 3,
   "metadata": {},
   "outputs": [
    {
     "name": "stdout",
     "output_type": "stream",
     "text": [
      "Checking if code is orthogonal:\n",
      "tensor([[ 1.0000e+00,  2.2352e-08,  8.0094e-08, -5.9605e-08],\n",
      "        [ 2.2352e-08,  1.0000e+00,  0.0000e+00,  3.7253e-08],\n",
      "        [ 8.0094e-08,  0.0000e+00,  1.0000e+00,  4.4703e-08],\n",
      "        [-5.9605e-08,  3.7253e-08,  4.4703e-08,  1.0000e+00]])\n"
     ]
    }
   ],
   "source": [
    "# Initialize parameters to be orthogonal\n",
    "q_param = qr_retraction(lin.weight.data.view(lin.weight.size(0), -1))\n",
    "lin.weight.data.copy_(q_param.view(lin.weight.size()))\n",
    "\n",
    "print(\"Checking if code is orthogonal:\")\n",
    "print(lin.weight.data @ lin.weight.data.T)"
   ]
  },
  {
   "cell_type": "code",
   "execution_count": 4,
   "metadata": {},
   "outputs": [
    {
     "name": "stdout",
     "output_type": "stream",
     "text": [
      "tensor(3.1353, grad_fn=<MseLossBackward>)\n"
     ]
    }
   ],
   "source": [
    "x = torch.randn(3, 8)\n",
    "y = torch.randn(3, 4)\n",
    "\n",
    "print(torch.nn.functional.mse_loss(lin(x), y))"
   ]
  },
  {
   "cell_type": "code",
   "execution_count": 5,
   "metadata": {},
   "outputs": [],
   "source": [
    "# Initialize Optimizer\n",
    "lr=1.e-1\n",
    "params = {'params': lin.parameters(), 'lr':lr, 'stiefel':True}\n",
    "opt = AdamG([params])"
   ]
  },
  {
   "cell_type": "code",
   "execution_count": 6,
   "metadata": {},
   "outputs": [
    {
     "name": "stdout",
     "output_type": "stream",
     "text": [
      "loss: tensor(3.1353, grad_fn=<MseLossBackward>) ortho cost: tensor(5.2858e-15)\n",
      "loss: tensor(1.9553, grad_fn=<MseLossBackward>) ortho cost: tensor(6.9181e-15)\n",
      "loss: tensor(0.8842, grad_fn=<MseLossBackward>) ortho cost: tensor(2.2917e-15)\n",
      "loss: tensor(0.3609, grad_fn=<MseLossBackward>) ortho cost: tensor(6.2034e-15)\n",
      "loss: tensor(0.1926, grad_fn=<MseLossBackward>) ortho cost: tensor(7.3344e-15)\n",
      "loss: tensor(0.1359, grad_fn=<MseLossBackward>) ortho cost: tensor(8.8957e-15)\n",
      "loss: tensor(0.1128, grad_fn=<MseLossBackward>) ortho cost: tensor(8.5279e-15)\n",
      "loss: tensor(0.1019, grad_fn=<MseLossBackward>) ortho cost: tensor(1.6077e-14)\n",
      "loss: tensor(0.0963, grad_fn=<MseLossBackward>) ortho cost: tensor(9.0292e-15)\n",
      "loss: tensor(0.0932, grad_fn=<MseLossBackward>) ortho cost: tensor(2.4217e-14)\n",
      "loss: tensor(0.0913, grad_fn=<MseLossBackward>) ortho cost: tensor(2.6737e-14)\n",
      "loss: tensor(0.0901, grad_fn=<MseLossBackward>) ortho cost: tensor(3.1248e-14)\n",
      "loss: tensor(0.0893, grad_fn=<MseLossBackward>) ortho cost: tensor(3.8166e-14)\n",
      "loss: tensor(0.0888, grad_fn=<MseLossBackward>) ortho cost: tensor(6.6128e-15)\n",
      "loss: tensor(0.0884, grad_fn=<MseLossBackward>) ortho cost: tensor(3.3931e-15)\n",
      "loss: tensor(0.0881, grad_fn=<MseLossBackward>) ortho cost: tensor(4.0887e-15)\n",
      "loss: tensor(0.0879, grad_fn=<MseLossBackward>) ortho cost: tensor(3.3849e-15)\n",
      "loss: tensor(0.0877, grad_fn=<MseLossBackward>) ortho cost: tensor(3.8428e-15)\n",
      "loss: tensor(0.0876, grad_fn=<MseLossBackward>) ortho cost: tensor(8.8024e-15)\n",
      "loss: tensor(0.0875, grad_fn=<MseLossBackward>) ortho cost: tensor(1.1303e-14)\n"
     ]
    }
   ],
   "source": [
    "# Find orthogonal transform minimizing L2 error\n",
    "for i in range(200):\n",
    "    opt.zero_grad()\n",
    "    loss = torch.nn.functional.mse_loss(lin(x), y)\n",
    "    # print(loss)\n",
    "    loss.backward()\n",
    "    opt.step()\n",
    "\n",
    "    is_ortho = torch.nn.functional.mse_loss(lin.weight.data @lin.weight.data.T, torch.eye(4))\n",
    "    if i % 10 == 0:\n",
    "        print(\"loss:\", loss, \"ortho cost:\", is_ortho)"
   ]
  },
  {
   "cell_type": "code",
   "execution_count": 7,
   "metadata": {},
   "outputs": [
    {
     "name": "stdout",
     "output_type": "stream",
     "text": [
      "Orthogonality Check: tensor([[ 1.0000e+00,  0.0000e+00, -7.4506e-08,  4.8429e-08],\n",
      "        [ 0.0000e+00,  1.0000e+00, -7.3574e-08,  1.3411e-07],\n",
      "        [-7.4506e-08, -7.3574e-08,  1.0000e+00,  1.4901e-07],\n",
      "        [ 4.8429e-08,  1.3411e-07,  1.4901e-07,  1.0000e+00]])\n"
     ]
    }
   ],
   "source": [
    "# Check if parameters are still orthogonal:\n",
    "print(\"Orthogonality Check:\", lin.weight.data @lin.weight.data.T)"
   ]
  }
 ],
 "metadata": {
  "interpreter": {
   "hash": "6f073d96eb159b41184fa0473e1d6de10a793d2aafcde17adc7250233ee88a97"
  },
  "kernelspec": {
   "display_name": "Python 3.9.2 64-bit ('mmf': conda)",
   "language": "python",
   "name": "python3"
  },
  "language_info": {
   "codemirror_mode": {
    "name": "ipython",
    "version": 3
   },
   "file_extension": ".py",
   "mimetype": "text/x-python",
   "name": "python",
   "nbconvert_exporter": "python",
   "pygments_lexer": "ipython3",
   "version": "3.9.2"
  },
  "orig_nbformat": 4
 },
 "nbformat": 4,
 "nbformat_minor": 2
}
