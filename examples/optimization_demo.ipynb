{
 "cells": [
  {
   "cell_type": "code",
   "execution_count": 99,
   "metadata": {},
   "outputs": [],
   "source": [
    "import numpy as np\n",
    "import matplotlib.pyplot as plt\n",
    "from stiefel_optimizer import AdamG, qr_retraction, SGDG\n",
    "from torch.optim import AdamW\n",
    "import torch"
   ]
  },
  {
   "cell_type": "code",
   "execution_count": 100,
   "metadata": {},
   "outputs": [
    {
     "name": "stdout",
     "output_type": "stream",
     "text": [
      "tensor([[ 0.0824,  0.6819,  0.0800,  0.1486, -0.4823, -0.2930, -0.4207, -0.0656],\n",
      "        [-0.2262, -0.2704, -0.1981,  0.1736, -0.2894, -0.6350,  0.2350,  0.5139],\n",
      "        [-0.6645,  0.2620, -0.6268,  0.0740,  0.0267,  0.1738,  0.0857, -0.2307],\n",
      "        [-0.4636,  0.1128,  0.6340,  0.1715,  0.2613, -0.3236,  0.2495, -0.3251]])\n"
     ]
    }
   ],
   "source": [
    "lin = torch.nn.Linear(8, 4, bias=False)\n",
    "\n",
    "# Initialize to be orthogonal\n",
    "q_param = qr_retraction(lin.weight.data.view(lin.weight.size(0), -1))\n",
    "lin.weight.data.copy_(q_param.view(lin.weight.size()))\n",
    "\n",
    "print(lin.weight.data)"
   ]
  },
  {
   "cell_type": "code",
   "execution_count": 101,
   "metadata": {},
   "outputs": [
    {
     "name": "stdout",
     "output_type": "stream",
     "text": [
      "tensor(2.1709, grad_fn=<MseLossBackward>)\n"
     ]
    }
   ],
   "source": [
    "x = torch.randn(3, 8)\n",
    "y = torch.randn(3, 4)\n",
    "\n",
    "print(torch.nn.functional.mse_loss(lin(x), y))"
   ]
  },
  {
   "cell_type": "code",
   "execution_count": 140,
   "metadata": {},
   "outputs": [],
   "source": [
    "lr=1.e-1\n",
    "params = {'params': lin.parameters(), 'lr':lr, 'stiefel':True}\n",
    "opt = SGDG([params])"
   ]
  },
  {
   "cell_type": "code",
   "execution_count": 146,
   "metadata": {},
   "outputs": [
    {
     "name": "stdout",
     "output_type": "stream",
     "text": [
      "loss: tensor(0.0538, grad_fn=<MseLossBackward>) ortho cost: tensor(1.1258e-15)\n",
      "loss: tensor(0.0538, grad_fn=<MseLossBackward>) ortho cost: tensor(5.6899e-16)\n",
      "loss: tensor(0.0538, grad_fn=<MseLossBackward>) ortho cost: tensor(6.8001e-16)\n",
      "loss: tensor(0.0538, grad_fn=<MseLossBackward>) ortho cost: tensor(7.9103e-16)\n",
      "loss: tensor(0.0538, grad_fn=<MseLossBackward>) ortho cost: tensor(1.3618e-15)\n",
      "loss: tensor(0.0538, grad_fn=<MseLossBackward>) ortho cost: tensor(1.6445e-15)\n",
      "loss: tensor(0.0538, grad_fn=<MseLossBackward>) ortho cost: tensor(6.4532e-16)\n",
      "loss: tensor(0.0538, grad_fn=<MseLossBackward>) ortho cost: tensor(1.9377e-15)\n",
      "loss: tensor(0.0538, grad_fn=<MseLossBackward>) ortho cost: tensor(1.9654e-15)\n",
      "loss: tensor(0.0538, grad_fn=<MseLossBackward>) ortho cost: tensor(6.4705e-16)\n"
     ]
    }
   ],
   "source": [
    "for i in range(1000):\n",
    "    opt.zero_grad()\n",
    "    loss = torch.nn.functional.mse_loss(lin(x), y)\n",
    "    # print(loss)\n",
    "    loss.backward()\n",
    "    opt.step()\n",
    "\n",
    "    is_ortho = torch.nn.functional.mse_loss(lin.weight.data @lin.weight.data.T, torch.eye(4))\n",
    "    if i % 100 == 0:\n",
    "        print(\"loss:\", loss, \"ortho cost:\", is_ortho)"
   ]
  },
  {
   "cell_type": "code",
   "execution_count": 147,
   "metadata": {},
   "outputs": [
    {
     "name": "stdout",
     "output_type": "stream",
     "text": [
      "tensor([[ 1.0000e+00,  5.9605e-08,  0.0000e+00, -4.4703e-08],\n",
      "        [ 5.9605e-08,  1.0000e+00,  1.4901e-08, -5.9605e-08],\n",
      "        [ 0.0000e+00,  1.4901e-08,  1.0000e+00, -2.2352e-08],\n",
      "        [-4.4703e-08, -5.9605e-08, -2.2352e-08,  1.0000e+00]])\n"
     ]
    }
   ],
   "source": [
    "print(lin.weight.data @lin.weight.data.T)"
   ]
  },
  {
   "cell_type": "code",
   "execution_count": null,
   "metadata": {},
   "outputs": [],
   "source": []
  }
 ],
 "metadata": {
  "interpreter": {
   "hash": "6f073d96eb159b41184fa0473e1d6de10a793d2aafcde17adc7250233ee88a97"
  },
  "kernelspec": {
   "display_name": "Python 3.9.2 64-bit ('mmf': conda)",
   "language": "python",
   "name": "python3"
  },
  "language_info": {
   "codemirror_mode": {
    "name": "ipython",
    "version": 3
   },
   "file_extension": ".py",
   "mimetype": "text/x-python",
   "name": "python",
   "nbconvert_exporter": "python",
   "pygments_lexer": "ipython3",
   "version": "3.9.2"
  },
  "orig_nbformat": 4
 },
 "nbformat": 4,
 "nbformat_minor": 2
}
